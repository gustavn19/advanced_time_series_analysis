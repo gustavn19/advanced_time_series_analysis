{
 "cells": [
  {
   "cell_type": "markdown",
   "metadata": {},
   "source": [
    "# Assignment 2"
   ]
  },
  {
   "cell_type": "markdown",
   "metadata": {},
   "source": [
    "## Part 1\n",
    "\n",
    "In this part a prediction error method will be used to estimate the parameters of a the data generated in part 1 in exercise 1. "
   ]
  },
  {
   "cell_type": "code",
   "execution_count": 29,
   "metadata": {},
   "outputs": [
    {
     "name": "stdout",
     "output_type": "stream",
     "text": [
      "      Value\n",
      "0  0.000000\n",
      "1  2.496714\n",
      "2  2.361079\n",
      "3  3.119904\n",
      "4  4.147011\n",
      "[ 0.          2.49671415  2.36107853 ... -5.18094676 -5.2957901\n",
      " -4.15212948]\n"
     ]
    }
   ],
   "source": [
    "import pandas as pd\n",
    "import numpy as np\n",
    "import matplotlib.pyplot as plt\n",
    "import seaborn as sn\n",
    "from scipy.optimize import minimize\n",
    "data = pd.read_csv('/Users/loveredin/Documents/GitHub/advanced_time_series_analysis/assignment_2/data.csv', index_col = 0)\n",
    "print(data.head())\n",
    "X_t = np.array(data['Value'])\n",
    "print(X_t)"
   ]
  },
  {
   "cell_type": "code",
   "execution_count": 30,
   "metadata": {},
   "outputs": [],
   "source": [
    "def kernel(x, kernel_function = 'gaussian'):\n",
    "\n",
    "    # Define different cases of kernel functions\n",
    "    if kernel_function == 'gaussian':\n",
    "        return np.exp(-0.5 * x ** 2) / np.sqrt(2 * np.pi)\n",
    "    elif kernel_function == 'tricube':\n",
    "        in_interval = np.abs(x) <= 1\n",
    "        weights = np.zeros_like(x, dtype = float)\n",
    "        weights[in_interval] = (1 - np.abs(x[in_interval]) ** 3) ** 3\n",
    "        return weights\n",
    "    else:\n",
    "        return 1 / 2 * ((x >= -1) & (x <= 1)).astype(float)\n"
   ]
  },
  {
   "cell_type": "code",
   "execution_count": null,
   "metadata": {},
   "outputs": [
    {
     "name": "stdout",
     "output_type": "stream",
     "text": [
      "  message: Desired error not necessarily achieved due to precision loss.\n",
      "  success: False\n",
      "   status: 2\n",
      "      fun: 11766.435106909581\n",
      "        x: [-2.068e+00  4.835e-01]\n",
      "      nit: 5\n",
      "      jac: [ 1.709e-03 -4.150e-03]\n",
      " hess_inv: [[ 6.985e-04  1.645e-04]\n",
      "            [ 1.645e-04  4.180e-05]]\n",
      "     nfev: 123\n",
      "     njev: 38\n",
      "The parameter estimation is [-2.06836669  0.48354977]\n"
     ]
    }
   ],
   "source": [
    "# Algo:\n",
    "# Define the loss function\n",
    "# Taylor expansion of loss function, done analytically\n",
    "# Evaluate the taylor expansion of order 2, in the point theta_0\n",
    "# Calculate gradient and hessian, evaluated at theta_0 and theta_est\n",
    "# Use the scipy function minimization, when defined the loss function, to estimate the new parameters\n",
    "# Estimate new parameters based on old, equation\n",
    "\n",
    "# Only make small adjustments, \n",
    "\n",
    "# The data we are working with and am trying to estimate the parameters for is a setar model, with four parameters, theta_00, theta_01, theta_10, theta, \n",
    "# Want to compute the value for all N time values of the time series\n",
    "\n",
    "\n",
    "def conditional_expectation(X_t_lagged, theta, threshold = 0):\n",
    "    return np.where(X_t_lagged < threshold, theta[0] + theta[1] * X_t_lagged, 2 + 0.2 * X_t_lagged[-1])\n",
    "    \n",
    "def loss_function(X_t, theta, conditional_expectation):\n",
    "    # This function defines the lag for which, time series to use, in this case it is going to be the lagged 1 time series\n",
    "    \n",
    "    # Optimization is carried out for all N, the length of the entire time series\n",
    "    # If the optimizartion were to be carried out for a sub-sequent of the time series, the partial time series X_t of length N, would have been investigated\n",
    "    # Here N = len(X_t) - 1\n",
    "\n",
    "    return sum((X_t[1 : ] - conditional_expectation(X_t[ : -1], theta)) ** 2)   \n",
    "\n",
    "# Only estimate two parameters\n",
    "theta_0 = np.zeros(2)\n",
    "\n",
    "theta_hat = minimize(lambda theta: loss_function(X_t, theta, conditional_expectation), theta_0)\n",
    "\n",
    "print(theta_hat)\n",
    "\n",
    "print(f'The parameter estimation is {theta_hat.x}')\n",
    "\n",
    "# optimized theta: [-2.06836669  0.48354977]\n",
    "# Actual theta [-2, 0.5], fairly good estimation, only estimated two of the parameters, with the other ones fixed to make 2 feasible"
   ]
  },
  {
   "cell_type": "markdown",
   "metadata": {},
   "source": [
    "## Part 2\n",
    "\n",
    "Plotting contour curves for different values of N, for the loss"
   ]
  },
  {
   "cell_type": "code",
   "execution_count": 37,
   "metadata": {},
   "outputs": [
    {
     "ename": "TypeError",
     "evalue": "Input z must be 2D, not 3D",
     "output_type": "error",
     "traceback": [
      "\u001b[31m---------------------------------------------------------------------------\u001b[39m",
      "\u001b[31mTypeError\u001b[39m                                 Traceback (most recent call last)",
      "\u001b[36mCell\u001b[39m\u001b[36m \u001b[39m\u001b[32mIn[37]\u001b[39m\u001b[32m, line 38\u001b[39m\n\u001b[32m     35\u001b[39m     \u001b[38;5;28;01mfor\u001b[39;00m interval_index, _ \u001b[38;5;129;01min\u001b[39;00m \u001b[38;5;28menumerate\u001b[39m(starts):\n\u001b[32m     36\u001b[39m         plot_contour(X_t[starts[interval_index] : stops[interval_index]], p1_range, p2_range, loss_function, [starts[interval_index], stops[interval_index]])\n\u001b[32m---> \u001b[39m\u001b[32m38\u001b[39m \u001b[43mmain\u001b[49m\u001b[43m(\u001b[49m\u001b[43m)\u001b[49m\n",
      "\u001b[36mCell\u001b[39m\u001b[36m \u001b[39m\u001b[32mIn[37]\u001b[39m\u001b[32m, line 36\u001b[39m, in \u001b[36mmain\u001b[39m\u001b[34m()\u001b[39m\n\u001b[32m     34\u001b[39m starts, stops = [\u001b[32m1\u001b[39m, \u001b[32m1\u001b[39m, \u001b[32m1\u001b[39m, \u001b[32m1001\u001b[39m, \u001b[32m1001\u001b[39m], [\u001b[32m3000\u001b[39m, \u001b[32m300\u001b[39m, \u001b[32m30\u001b[39m, \u001b[32m1300\u001b[39m, \u001b[32m1030\u001b[39m]\n\u001b[32m     35\u001b[39m \u001b[38;5;28;01mfor\u001b[39;00m interval_index, _ \u001b[38;5;129;01min\u001b[39;00m \u001b[38;5;28menumerate\u001b[39m(starts):\n\u001b[32m---> \u001b[39m\u001b[32m36\u001b[39m     \u001b[43mplot_contour\u001b[49m\u001b[43m(\u001b[49m\u001b[43mX_t\u001b[49m\u001b[43m[\u001b[49m\u001b[43mstarts\u001b[49m\u001b[43m[\u001b[49m\u001b[43minterval_index\u001b[49m\u001b[43m]\u001b[49m\u001b[43m \u001b[49m\u001b[43m:\u001b[49m\u001b[43m \u001b[49m\u001b[43mstops\u001b[49m\u001b[43m[\u001b[49m\u001b[43minterval_index\u001b[49m\u001b[43m]\u001b[49m\u001b[43m]\u001b[49m\u001b[43m,\u001b[49m\u001b[43m \u001b[49m\u001b[43mp1_range\u001b[49m\u001b[43m,\u001b[49m\u001b[43m \u001b[49m\u001b[43mp2_range\u001b[49m\u001b[43m,\u001b[49m\u001b[43m \u001b[49m\u001b[43mloss_function\u001b[49m\u001b[43m,\u001b[49m\u001b[43m \u001b[49m\u001b[43m[\u001b[49m\u001b[43mstarts\u001b[49m\u001b[43m[\u001b[49m\u001b[43minterval_index\u001b[49m\u001b[43m]\u001b[49m\u001b[43m,\u001b[49m\u001b[43m \u001b[49m\u001b[43mstops\u001b[49m\u001b[43m[\u001b[49m\u001b[43minterval_index\u001b[49m\u001b[43m]\u001b[49m\u001b[43m]\u001b[49m\u001b[43m)\u001b[49m\n",
      "\u001b[36mCell\u001b[39m\u001b[36m \u001b[39m\u001b[32mIn[37]\u001b[39m\u001b[32m, line 25\u001b[39m, in \u001b[36mplot_contour\u001b[39m\u001b[34m(X_t_subset, p1_range, p2_range, loss_function, range_idx, estimation_function)\u001b[39m\n\u001b[32m     23\u001b[39m P1_RANGE, P2_RANGE = np.meshgrid(p1_range, p2_range)\n\u001b[32m     24\u001b[39m \u001b[38;5;66;03m# plt.contour([p1_range, p2_range], local_loss_matrix)\u001b[39;00m\n\u001b[32m---> \u001b[39m\u001b[32m25\u001b[39m \u001b[43mplt\u001b[49m\u001b[43m.\u001b[49m\u001b[43mcontour\u001b[49m\u001b[43m(\u001b[49m\u001b[43m[\u001b[49m\u001b[43mP1_RANGE\u001b[49m\u001b[43m,\u001b[49m\u001b[43m \u001b[49m\u001b[43mP2_RANGE\u001b[49m\u001b[43m]\u001b[49m\u001b[43m,\u001b[49m\u001b[43m \u001b[49m\u001b[43mlocal_loss_matrix\u001b[49m\u001b[43m)\u001b[49m\n\u001b[32m     26\u001b[39m plt.scatter([-\u001b[32m2\u001b[39m], [\u001b[32m0.5\u001b[39m], marker = \u001b[33m'\u001b[39m\u001b[33m+\u001b[39m\u001b[33m'\u001b[39m, color = \u001b[33m'\u001b[39m\u001b[33mred\u001b[39m\u001b[33m'\u001b[39m)\n\u001b[32m     27\u001b[39m plt.title(\u001b[33mf\u001b[39m\u001b[33m'\u001b[39m\u001b[33mLoss contour curves for time series [\u001b[39m\u001b[38;5;132;01m{\u001b[39;00mrange_idx[\u001b[32m0\u001b[39m]\u001b[38;5;132;01m}\u001b[39;00m\u001b[33m, \u001b[39m\u001b[38;5;132;01m{\u001b[39;00mrange_idx[\u001b[32m1\u001b[39m]\u001b[38;5;132;01m}\u001b[39;00m\u001b[33m]\u001b[39m\u001b[33m'\u001b[39m)\n",
      "\u001b[36mFile \u001b[39m\u001b[32m~/Documents/GitHub/advanced_time_series_analysis/.venv/lib/python3.13/site-packages/matplotlib/pyplot.py:3179\u001b[39m, in \u001b[36mcontour\u001b[39m\u001b[34m(data, *args, **kwargs)\u001b[39m\n\u001b[32m   3177\u001b[39m \u001b[38;5;129m@_copy_docstring_and_deprecators\u001b[39m(Axes.contour)\n\u001b[32m   3178\u001b[39m \u001b[38;5;28;01mdef\u001b[39;00m\u001b[38;5;250m \u001b[39m\u001b[34mcontour\u001b[39m(*args, data=\u001b[38;5;28;01mNone\u001b[39;00m, **kwargs) -> QuadContourSet:\n\u001b[32m-> \u001b[39m\u001b[32m3179\u001b[39m     __ret = \u001b[43mgca\u001b[49m\u001b[43m(\u001b[49m\u001b[43m)\u001b[49m\u001b[43m.\u001b[49m\u001b[43mcontour\u001b[49m\u001b[43m(\u001b[49m\n\u001b[32m   3180\u001b[39m \u001b[43m        \u001b[49m\u001b[43m*\u001b[49m\u001b[43margs\u001b[49m\u001b[43m,\u001b[49m\u001b[43m \u001b[49m\u001b[43m*\u001b[49m\u001b[43m*\u001b[49m\u001b[43m(\u001b[49m\u001b[43m{\u001b[49m\u001b[33;43m\"\u001b[39;49m\u001b[33;43mdata\u001b[39;49m\u001b[33;43m\"\u001b[39;49m\u001b[43m:\u001b[49m\u001b[43m \u001b[49m\u001b[43mdata\u001b[49m\u001b[43m}\u001b[49m\u001b[43m \u001b[49m\u001b[38;5;28;43;01mif\u001b[39;49;00m\u001b[43m \u001b[49m\u001b[43mdata\u001b[49m\u001b[43m \u001b[49m\u001b[38;5;129;43;01mis\u001b[39;49;00m\u001b[43m \u001b[49m\u001b[38;5;129;43;01mnot\u001b[39;49;00m\u001b[43m \u001b[49m\u001b[38;5;28;43;01mNone\u001b[39;49;00m\u001b[43m \u001b[49m\u001b[38;5;28;43;01melse\u001b[39;49;00m\u001b[43m \u001b[49m\u001b[43m{\u001b[49m\u001b[43m}\u001b[49m\u001b[43m)\u001b[49m\u001b[43m,\u001b[49m\u001b[43m \u001b[49m\u001b[43m*\u001b[49m\u001b[43m*\u001b[49m\u001b[43mkwargs\u001b[49m\n\u001b[32m   3181\u001b[39m \u001b[43m    \u001b[49m\u001b[43m)\u001b[49m\n\u001b[32m   3182\u001b[39m     \u001b[38;5;28;01mif\u001b[39;00m __ret._A \u001b[38;5;129;01mis\u001b[39;00m \u001b[38;5;129;01mnot\u001b[39;00m \u001b[38;5;28;01mNone\u001b[39;00m:  \u001b[38;5;66;03m# type: ignore[attr-defined]\u001b[39;00m\n\u001b[32m   3183\u001b[39m         sci(__ret)\n",
      "\u001b[36mFile \u001b[39m\u001b[32m~/Documents/GitHub/advanced_time_series_analysis/.venv/lib/python3.13/site-packages/matplotlib/__init__.py:1524\u001b[39m, in \u001b[36m_preprocess_data.<locals>.inner\u001b[39m\u001b[34m(ax, data, *args, **kwargs)\u001b[39m\n\u001b[32m   1521\u001b[39m \u001b[38;5;129m@functools\u001b[39m.wraps(func)\n\u001b[32m   1522\u001b[39m \u001b[38;5;28;01mdef\u001b[39;00m\u001b[38;5;250m \u001b[39m\u001b[34minner\u001b[39m(ax, *args, data=\u001b[38;5;28;01mNone\u001b[39;00m, **kwargs):\n\u001b[32m   1523\u001b[39m     \u001b[38;5;28;01mif\u001b[39;00m data \u001b[38;5;129;01mis\u001b[39;00m \u001b[38;5;28;01mNone\u001b[39;00m:\n\u001b[32m-> \u001b[39m\u001b[32m1524\u001b[39m         \u001b[38;5;28;01mreturn\u001b[39;00m \u001b[43mfunc\u001b[49m\u001b[43m(\u001b[49m\n\u001b[32m   1525\u001b[39m \u001b[43m            \u001b[49m\u001b[43max\u001b[49m\u001b[43m,\u001b[49m\n\u001b[32m   1526\u001b[39m \u001b[43m            \u001b[49m\u001b[43m*\u001b[49m\u001b[38;5;28;43mmap\u001b[39;49m\u001b[43m(\u001b[49m\u001b[43mcbook\u001b[49m\u001b[43m.\u001b[49m\u001b[43msanitize_sequence\u001b[49m\u001b[43m,\u001b[49m\u001b[43m \u001b[49m\u001b[43margs\u001b[49m\u001b[43m)\u001b[49m\u001b[43m,\u001b[49m\n\u001b[32m   1527\u001b[39m \u001b[43m            \u001b[49m\u001b[43m*\u001b[49m\u001b[43m*\u001b[49m\u001b[43m{\u001b[49m\u001b[43mk\u001b[49m\u001b[43m:\u001b[49m\u001b[43m \u001b[49m\u001b[43mcbook\u001b[49m\u001b[43m.\u001b[49m\u001b[43msanitize_sequence\u001b[49m\u001b[43m(\u001b[49m\u001b[43mv\u001b[49m\u001b[43m)\u001b[49m\u001b[43m \u001b[49m\u001b[38;5;28;43;01mfor\u001b[39;49;00m\u001b[43m \u001b[49m\u001b[43mk\u001b[49m\u001b[43m,\u001b[49m\u001b[43m \u001b[49m\u001b[43mv\u001b[49m\u001b[43m \u001b[49m\u001b[38;5;129;43;01min\u001b[39;49;00m\u001b[43m \u001b[49m\u001b[43mkwargs\u001b[49m\u001b[43m.\u001b[49m\u001b[43mitems\u001b[49m\u001b[43m(\u001b[49m\u001b[43m)\u001b[49m\u001b[43m}\u001b[49m\u001b[43m)\u001b[49m\n\u001b[32m   1529\u001b[39m     bound = new_sig.bind(ax, *args, **kwargs)\n\u001b[32m   1530\u001b[39m     auto_label = (bound.arguments.get(label_namer)\n\u001b[32m   1531\u001b[39m                   \u001b[38;5;129;01mor\u001b[39;00m bound.kwargs.get(label_namer))\n",
      "\u001b[36mFile \u001b[39m\u001b[32m~/Documents/GitHub/advanced_time_series_analysis/.venv/lib/python3.13/site-packages/matplotlib/axes/_axes.py:6779\u001b[39m, in \u001b[36mAxes.contour\u001b[39m\u001b[34m(self, *args, **kwargs)\u001b[39m\n\u001b[32m   6768\u001b[39m \u001b[38;5;250m\u001b[39m\u001b[33;03m\"\"\"\u001b[39;00m\n\u001b[32m   6769\u001b[39m \u001b[33;03mPlot contour lines.\u001b[39;00m\n\u001b[32m   6770\u001b[39m \n\u001b[32m   (...)\u001b[39m\u001b[32m   6776\u001b[39m \u001b[33;03m%(contour_doc)s\u001b[39;00m\n\u001b[32m   6777\u001b[39m \u001b[33;03m\"\"\"\u001b[39;00m\n\u001b[32m   6778\u001b[39m kwargs[\u001b[33m'\u001b[39m\u001b[33mfilled\u001b[39m\u001b[33m'\u001b[39m] = \u001b[38;5;28;01mFalse\u001b[39;00m\n\u001b[32m-> \u001b[39m\u001b[32m6779\u001b[39m contours = \u001b[43mmcontour\u001b[49m\u001b[43m.\u001b[49m\u001b[43mQuadContourSet\u001b[49m\u001b[43m(\u001b[49m\u001b[38;5;28;43mself\u001b[39;49m\u001b[43m,\u001b[49m\u001b[43m \u001b[49m\u001b[43m*\u001b[49m\u001b[43margs\u001b[49m\u001b[43m,\u001b[49m\u001b[43m \u001b[49m\u001b[43m*\u001b[49m\u001b[43m*\u001b[49m\u001b[43mkwargs\u001b[49m\u001b[43m)\u001b[49m\n\u001b[32m   6780\u001b[39m \u001b[38;5;28mself\u001b[39m._request_autoscale_view()\n\u001b[32m   6781\u001b[39m \u001b[38;5;28;01mreturn\u001b[39;00m contours\n",
      "\u001b[36mFile \u001b[39m\u001b[32m~/Documents/GitHub/advanced_time_series_analysis/.venv/lib/python3.13/site-packages/matplotlib/contour.py:701\u001b[39m, in \u001b[36mContourSet.__init__\u001b[39m\u001b[34m(self, ax, levels, filled, linewidths, linestyles, hatches, alpha, origin, extent, cmap, colors, norm, vmin, vmax, colorizer, extend, antialiased, nchunk, locator, transform, negative_linestyles, clip_path, *args, **kwargs)\u001b[39m\n\u001b[32m    697\u001b[39m \u001b[38;5;28;01mif\u001b[39;00m \u001b[38;5;28mself\u001b[39m.negative_linestyles \u001b[38;5;129;01mis\u001b[39;00m \u001b[38;5;28;01mNone\u001b[39;00m:\n\u001b[32m    698\u001b[39m     \u001b[38;5;28mself\u001b[39m.negative_linestyles = \\\n\u001b[32m    699\u001b[39m         mpl.rcParams[\u001b[33m'\u001b[39m\u001b[33mcontour.negative_linestyle\u001b[39m\u001b[33m'\u001b[39m]\n\u001b[32m--> \u001b[39m\u001b[32m701\u001b[39m kwargs = \u001b[38;5;28;43mself\u001b[39;49m\u001b[43m.\u001b[49m\u001b[43m_process_args\u001b[49m\u001b[43m(\u001b[49m\u001b[43m*\u001b[49m\u001b[43margs\u001b[49m\u001b[43m,\u001b[49m\u001b[43m \u001b[49m\u001b[43m*\u001b[49m\u001b[43m*\u001b[49m\u001b[43mkwargs\u001b[49m\u001b[43m)\u001b[49m\n\u001b[32m    702\u001b[39m \u001b[38;5;28mself\u001b[39m._process_levels()\n\u001b[32m    704\u001b[39m \u001b[38;5;28mself\u001b[39m._extend_min = \u001b[38;5;28mself\u001b[39m.extend \u001b[38;5;129;01min\u001b[39;00m [\u001b[33m'\u001b[39m\u001b[33mmin\u001b[39m\u001b[33m'\u001b[39m, \u001b[33m'\u001b[39m\u001b[33mboth\u001b[39m\u001b[33m'\u001b[39m]\n",
      "\u001b[36mFile \u001b[39m\u001b[32m~/Documents/GitHub/advanced_time_series_analysis/.venv/lib/python3.13/site-packages/matplotlib/contour.py:1319\u001b[39m, in \u001b[36mQuadContourSet._process_args\u001b[39m\u001b[34m(self, corner_mask, algorithm, *args, **kwargs)\u001b[39m\n\u001b[32m   1316\u001b[39m         corner_mask = mpl.rcParams[\u001b[33m'\u001b[39m\u001b[33mcontour.corner_mask\u001b[39m\u001b[33m'\u001b[39m]\n\u001b[32m   1317\u001b[39m \u001b[38;5;28mself\u001b[39m._corner_mask = corner_mask\n\u001b[32m-> \u001b[39m\u001b[32m1319\u001b[39m x, y, z = \u001b[38;5;28;43mself\u001b[39;49m\u001b[43m.\u001b[49m\u001b[43m_contour_args\u001b[49m\u001b[43m(\u001b[49m\u001b[43margs\u001b[49m\u001b[43m,\u001b[49m\u001b[43m \u001b[49m\u001b[43mkwargs\u001b[49m\u001b[43m)\u001b[49m\n\u001b[32m   1321\u001b[39m contour_generator = contourpy.contour_generator(\n\u001b[32m   1322\u001b[39m     x, y, z, name=\u001b[38;5;28mself\u001b[39m._algorithm, corner_mask=\u001b[38;5;28mself\u001b[39m._corner_mask,\n\u001b[32m   1323\u001b[39m     line_type=contourpy.LineType.SeparateCode,\n\u001b[32m   1324\u001b[39m     fill_type=contourpy.FillType.OuterCode,\n\u001b[32m   1325\u001b[39m     chunk_size=\u001b[38;5;28mself\u001b[39m.nchunk)\n\u001b[32m   1327\u001b[39m t = \u001b[38;5;28mself\u001b[39m.get_transform()\n",
      "\u001b[36mFile \u001b[39m\u001b[32m~/Documents/GitHub/advanced_time_series_analysis/.venv/lib/python3.13/site-packages/matplotlib/contour.py:1356\u001b[39m, in \u001b[36mQuadContourSet._contour_args\u001b[39m\u001b[34m(self, args, kwargs)\u001b[39m\n\u001b[32m   1354\u001b[39m     z, *args = args\n\u001b[32m   1355\u001b[39m     z = ma.asarray(z)\n\u001b[32m-> \u001b[39m\u001b[32m1356\u001b[39m     x, y = \u001b[38;5;28;43mself\u001b[39;49m\u001b[43m.\u001b[49m\u001b[43m_initialize_x_y\u001b[49m\u001b[43m(\u001b[49m\u001b[43mz\u001b[49m\u001b[43m)\u001b[49m\n\u001b[32m   1357\u001b[39m \u001b[38;5;28;01melif\u001b[39;00m \u001b[32m2\u001b[39m < nargs <= \u001b[32m4\u001b[39m:\n\u001b[32m   1358\u001b[39m     x, y, z_orig, *args = args\n",
      "\u001b[36mFile \u001b[39m\u001b[32m~/Documents/GitHub/advanced_time_series_analysis/.venv/lib/python3.13/site-packages/matplotlib/contour.py:1430\u001b[39m, in \u001b[36mQuadContourSet._initialize_x_y\u001b[39m\u001b[34m(self, z)\u001b[39m\n\u001b[32m   1417\u001b[39m \u001b[38;5;250m\u001b[39m\u001b[33;03m\"\"\"\u001b[39;00m\n\u001b[32m   1418\u001b[39m \u001b[33;03mReturn X, Y arrays such that contour(Z) will match imshow(Z)\u001b[39;00m\n\u001b[32m   1419\u001b[39m \u001b[33;03mif origin is not None.\u001b[39;00m\n\u001b[32m   (...)\u001b[39m\u001b[32m   1427\u001b[39m \u001b[33;03mwill give the minimum and maximum values of x and y.\u001b[39;00m\n\u001b[32m   1428\u001b[39m \u001b[33;03m\"\"\"\u001b[39;00m\n\u001b[32m   1429\u001b[39m \u001b[38;5;28;01mif\u001b[39;00m z.ndim != \u001b[32m2\u001b[39m:\n\u001b[32m-> \u001b[39m\u001b[32m1430\u001b[39m     \u001b[38;5;28;01mraise\u001b[39;00m \u001b[38;5;167;01mTypeError\u001b[39;00m(\u001b[33mf\u001b[39m\u001b[33m\"\u001b[39m\u001b[33mInput z must be 2D, not \u001b[39m\u001b[38;5;132;01m{\u001b[39;00mz.ndim\u001b[38;5;132;01m}\u001b[39;00m\u001b[33mD\u001b[39m\u001b[33m\"\u001b[39m)\n\u001b[32m   1431\u001b[39m \u001b[38;5;28;01melif\u001b[39;00m z.shape[\u001b[32m0\u001b[39m] < \u001b[32m2\u001b[39m \u001b[38;5;129;01mor\u001b[39;00m z.shape[\u001b[32m1\u001b[39m] < \u001b[32m2\u001b[39m:\n\u001b[32m   1432\u001b[39m     \u001b[38;5;28;01mraise\u001b[39;00m \u001b[38;5;167;01mTypeError\u001b[39;00m(\u001b[33mf\u001b[39m\u001b[33m\"\u001b[39m\u001b[33mInput z must be at least a (2, 2) shaped array, \u001b[39m\u001b[33m\"\u001b[39m\n\u001b[32m   1433\u001b[39m                     \u001b[33mf\u001b[39m\u001b[33m\"\u001b[39m\u001b[33mbut has shape \u001b[39m\u001b[38;5;132;01m{\u001b[39;00mz.shape\u001b[38;5;132;01m}\u001b[39;00m\u001b[33m\"\u001b[39m)\n",
      "\u001b[31mTypeError\u001b[39m: Input z must be 2D, not 3D"
     ]
    },
    {
     "data": {
      "image/png": "[encoded data removed]",
      "text/plain": [
       "<Figure size 1600x600 with 1 Axes>"
      ]
     },
     "metadata": {},
     "output_type": "display_data"
    }
   ],
   "source": [
    "theta_3, theta_4 = 2, 0.2\n",
    "# Actual theta_1, theta_2 = [-2, 0.5]\n",
    "theta_asterisk = [[theta_hat.x[0],  theta_hat.x[1]],  [theta_3, theta_4]]\n",
    "\n",
    "def model(X_t_1, theta_asterisk):\n",
    "    if X_t_1 < 0:\n",
    "        return theta_asterisk[0][0] + theta_asterisk[0][1] * X_t_1\n",
    "    else: \n",
    "        return theta_asterisk[1][0] + theta_asterisk[1][1] * X_t_1\n",
    "    \n",
    "\n",
    "# In this part, it is desired to create a 3d contour plot of the N, and the lag??\n",
    "# The following contour curves function will be used\n",
    "# plt.contour([X, Y, ], Z)\n",
    "\n",
    "def plot_contour(X_t_subset, p1_range, p2_range, loss_function, range_idx ,estimation_function = conditional_expectation):\n",
    "    # In this, we want in an interval to plot the contours as a function of p1 and p2, for different lengths of the time series\n",
    "    # We expect to see a lot of lines, decreases around the actual parameters, plot an 'x' around actual parameters\n",
    "    \n",
    "    # Determine the loss matrix\n",
    "    local_loss_matrix = [[loss_function(X_t_subset, [p1, p2], estimation_function) for p1 in p1_range] for p2 in p2_range]\n",
    "    plt.figure(figsize = (16, 6))\n",
    "    P1_RANGE, P2_RANGE = np.meshgrid(p1_range, p2_range)\n",
    "    # plt.contour([p1_range, p2_range], local_loss_matrix)\n",
    "    plt.contour([P1_RANGE, P2_RANGE], local_loss_matrix)\n",
    "    plt.scatter([-2], [0.5], marker = '+', color = 'red')\n",
    "    plt.title(f'Loss contour curves for time series [{range_idx[0]}, {range_idx[1]}]')\n",
    "    plt.show()\n",
    "\n",
    "# Defining parameters\n",
    "def main():\n",
    "    p1_range, p2_range = np.linspace(-3, -1), np.linspace(- 3 / 2, 1 / 2)\n",
    "    \n",
    "    starts, stops = [1, 1, 1, 1001, 1001], [3000, 300, 30, 1300, 1030]\n",
    "    for interval_index, _ in enumerate(starts):\n",
    "        plot_contour(X_t[starts[interval_index] : stops[interval_index]], p1_range, p2_range, loss_function, [starts[interval_index], stops[interval_index]])\n",
    "\n",
    "main()\n",
    "\n"
   ]
  }
 ],
 "metadata": {
  "kernelspec": {
   "display_name": ".venv",
   "language": "python",
   "name": "python3"
  },
  "language_info": {
   "codemirror_mode": {
    "name": "ipython",
    "version": 3
   },
   "file_extension": ".py",
   "mimetype": "text/x-python",
   "name": "python",
   "nbconvert_exporter": "python",
   "pygments_lexer": "ipython3",
   "version": "3.13.2"
  }
 },
 "nbformat": 4,
 "nbformat_minor": 2
}
