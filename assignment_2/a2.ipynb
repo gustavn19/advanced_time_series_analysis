{
 "cells": [
  {
   "cell_type": "markdown",
   "metadata": {},
   "source": [
    "# Assignment 2"
   ]
  },
  {
   "cell_type": "markdown",
   "metadata": {},
   "source": [
    "## Part 1\n",
    "\n",
    "In this part a prediction error method will be used to estimate the parameters of a the data generated in part 1 in exercise 1. "
   ]
  },
  {
   "cell_type": "code",
   "execution_count": 29,
   "metadata": {},
   "outputs": [
    {
     "name": "stdout",
     "output_type": "stream",
     "text": [
      "      Value\n",
      "0  0.000000\n",
      "1  2.496714\n",
      "2  2.361079\n",
      "3  3.119904\n",
      "4  4.147011\n",
      "[ 0.          2.49671415  2.36107853 ... -5.18094676 -5.2957901\n",
      " -4.15212948]\n"
     ]
    }
   ],
   "source": [
    "import pandas as pd\n",
    "import numpy as np\n",
    "import matplotlib.pyplot as plt\n",
    "import seaborn as sn\n",
    "from scipy.optimize import minimize\n",
    "data = pd.read_csv('/Users/loveredin/Documents/GitHub/advanced_time_series_analysis/assignment_2/data.csv', index_col = 0)\n",
    "print(data.head())\n",
    "X_t = np.array(data['Value'])\n",
    "print(X_t)"
   ]
  },
  {
   "cell_type": "code",
   "execution_count": 30,
   "metadata": {},
   "outputs": [],
   "source": [
    "def kernel(x, kernel_function = 'gaussian'):\n",
    "\n",
    "    # Define different cases of kernel functions\n",
    "    if kernel_function == 'gaussian':\n",
    "        return np.exp(-0.5 * x ** 2) / np.sqrt(2 * np.pi)\n",
    "    elif kernel_function == 'tricube':\n",
    "        in_interval = np.abs(x) <= 1\n",
    "        weights = np.zeros_like(x, dtype = float)\n",
    "        weights[in_interval] = (1 - np.abs(x[in_interval]) ** 3) ** 3\n",
    "        return weights\n",
    "    else:\n",
    "        return 1 / 2 * ((x >= -1) & (x <= 1)).astype(float)\n"
   ]
  },
  {
   "cell_type": "code",
   "execution_count": null,
   "metadata": {},
   "outputs": [
    {
     "name": "stdout",
     "output_type": "stream",
     "text": [
      "  message: Desired error not necessarily achieved due to precision loss.\n",
      "  success: False\n",
      "   status: 2\n",
      "      fun: 11766.435106909581\n",
      "        x: [-2.068e+00  4.835e-01]\n",
      "      nit: 5\n",
      "      jac: [ 1.709e-03 -4.150e-03]\n",
      " hess_inv: [[ 6.985e-04  1.645e-04]\n",
      "            [ 1.645e-04  4.180e-05]]\n",
      "     nfev: 123\n",
      "     njev: 38\n",
      "The parameter estimation is [-2.06836669  0.48354977]\n"
     ]
    }
   ],
   "source": [
    "# Algo:\n",
    "# Define the loss function\n",
    "# Taylor expansion of loss function, done analytically\n",
    "# Evaluate the taylor expansion of order 2, in the point theta_0\n",
    "# Calculate gradient and hessian, evaluated at theta_0 and theta_est\n",
    "# Use the scipy function minimization, when defined the loss function, to estimate the new parameters\n",
    "# Estimate new parameters based on old, equation\n",
    "\n",
    "# Only make small adjustments, \n",
    "\n",
    "# The data we are working with and am trying to estimate the parameters for is a setar model, with four parameters, theta_00, theta_01, theta_10, theta, \n",
    "# Want to compute the value for all N time values of the time series\n",
    "\n",
    "\n",
    "def conditional_expectation(X_t_lagged, theta, threshold = 0):\n",
    "    return np.where(X_t_lagged < threshold, theta[0] + theta[1] * X_t_lagged, 2 + 0.2 * X_t_lagged[-1])\n",
    "    \n",
    "def loss_function(X_t, theta, conditional_expectation):\n",
    "    # This function defines the lag for which, time series to use, in this case it is going to be the lagged 1 time series\n",
    "    \n",
    "    # Optimization is carried out for all N, the length of the entire time series\n",
    "    # If the optimizartion were to be carried out for a sub-sequent of the time series, the partial time series X_t of length N, would have been investigated\n",
    "    # Here N = len(X_t) - 1\n",
    "\n",
    "    return sum((X_t[1 : ] - conditional_expectation(X_t[ : -1], theta)) ** 2)   \n",
    "\n",
    "# Only estimate two parameters\n",
    "theta_0 = np.zeros(2)\n",
    "\n",
    "theta_hat = minimize(lambda theta: loss_function(X_t, theta, conditional_expectation), theta_0)\n",
    "\n",
    "print(theta_hat)\n",
    "\n",
    "print(f'The parameter estimation is {theta_hat.x}')\n",
    "\n",
    "# optimized theta: [-2.06836669  0.48354977]\n",
    "# Actual theta [-2, 0.5], fairly good estimation, only estimated two of the parameters, with the other ones fixed to make 2 feasible"
   ]
  },
  {
   "cell_type": "markdown",
   "metadata": {},
   "source": [
    "## Part 2\n",
    "\n",
    "Plotting contour curves for different values of N, for the loss"
   ]
  },
  {
   "cell_type": "code",
   "execution_count": null,
   "metadata": {},
   "outputs": [],
   "source": [
    "theta_asterisk = [[theta_hat.x[0],  theta_hat.x[1]],  [theta_hat.x[2], theta_hat.x[3]]]\n",
    "\n",
    "def model(X_t_1, theta_asterisk):\n",
    "    if X_t_1 < 0:\n",
    "        return theta_asterisk[0][0] + theta_asterisk[0][1] * X_t_1\n",
    "    else: \n",
    "        return theta_asterisk[1][0] + theta_asterisk[1][1] * X_t_1\n",
    "    \n",
    "\n",
    "# In this part, it is desired to create a 3d contour plot of the N, and the lag??\n",
    "# The following contour curves function will be used\n",
    "# plt.contour([X, Y, ], Z)\n",
    "\n",
    "def plot_contour(p1, p2, loss_function):\n",
    "    # In this, we want in an interval to plot the contours as a function of p1 and p2, for different lengths of the time series\n",
    "    # We expect to see a lot of lines, decreases around the actual parameters, want to \n",
    "    pass\n"
   ]
  }
 ],
 "metadata": {
  "kernelspec": {
   "display_name": ".venv",
   "language": "python",
   "name": "python3"
  },
  "language_info": {
   "codemirror_mode": {
    "name": "ipython",
    "version": 3
   },
   "file_extension": ".py",
   "mimetype": "text/x-python",
   "name": "python",
   "nbconvert_exporter": "python",
   "pygments_lexer": "ipython3",
   "version": "3.13.2"
  }
 },
 "nbformat": 4,
 "nbformat_minor": 2
}
